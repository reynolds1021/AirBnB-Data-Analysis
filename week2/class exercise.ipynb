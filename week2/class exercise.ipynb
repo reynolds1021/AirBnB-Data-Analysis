{
 "cells": [
  {
   "cell_type": "code",
   "execution_count": 35,
   "metadata": {},
   "outputs": [
    {
     "name": "stdout",
     "output_type": "stream",
     "text": [
      "1\n",
      "2\n",
      "Fizz\n",
      "4\n",
      "Buzz\n",
      "Fizz\n",
      "7\n",
      "8\n",
      "Fizz\n",
      "Buzz\n",
      "11\n",
      "Fizz\n",
      "13\n",
      "14\n",
      "Fizzbuzz\n",
      "16\n",
      "17\n",
      "Fizz\n",
      "19\n",
      "Buzz\n",
      "Fizz\n",
      "22\n",
      "23\n",
      "Fizz\n",
      "Buzz\n",
      "26\n",
      "Fizz\n",
      "28\n",
      "29\n",
      "Fizzbuzz\n"
     ]
    }
   ],
   "source": [
    "def fizzbuzz(number):\n",
    "    \n",
    "    for n in range(1,number+1):\n",
    "        \n",
    "        if n % 3 == 0 and n % 5 == 0:\n",
    "            print(\"Fizzbuzz\")\n",
    "        \n",
    "        elif n % 3 == 0:\n",
    "            print(\"Fizz\")\n",
    "            \n",
    "        elif n % 5 == 0:\n",
    "            print(\"Buzz\")\n",
    "            \n",
    "        else:\n",
    "            print(n)\n",
    "        \n",
    "   \n",
    "\n",
    "fizzbuzz(30) \n",
    "\n",
    "        \n",
    "            \n",
    "            \n",
    "\n",
    "\n"
   ]
  },
  {
   "cell_type": "code",
   "execution_count": 36,
   "metadata": {},
   "outputs": [
    {
     "ename": "SyntaxError",
     "evalue": "invalid syntax (<ipython-input-36-0d04fc436cf0>, line 1)",
     "output_type": "error",
     "traceback": [
      "\u001b[0;36m  File \u001b[0;32m\"<ipython-input-36-0d04fc436cf0>\"\u001b[0;36m, line \u001b[0;32m1\u001b[0m\n\u001b[0;31m    help(try)\u001b[0m\n\u001b[0m         ^\u001b[0m\n\u001b[0;31mSyntaxError\u001b[0m\u001b[0;31m:\u001b[0m invalid syntax\n"
     ]
    }
   ],
   "source": [
    "help(try)"
   ]
  },
  {
   "cell_type": "code",
   "execution_count": null,
   "metadata": {},
   "outputs": [],
   "source": []
  }
 ],
 "metadata": {
  "kernelspec": {
   "display_name": "Python 3",
   "language": "python",
   "name": "python3"
  },
  "language_info": {
   "codemirror_mode": {
    "name": "ipython",
    "version": 3
   },
   "file_extension": ".py",
   "mimetype": "text/x-python",
   "name": "python",
   "nbconvert_exporter": "python",
   "pygments_lexer": "ipython3",
   "version": "3.8.3"
  }
 },
 "nbformat": 4,
 "nbformat_minor": 4
}
